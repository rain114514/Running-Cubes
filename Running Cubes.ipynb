{
 "cells": [
  {
   "cell_type": "markdown",
   "metadata": {},
   "source": [
    "# 战前准备\n",
    "- 引入绘图、随机数、系统、时间模块\n",
    "- 设置绘图参数，使中文、负号正常显示\n",
    "- 设置基础参数如地图大小、胜率表等"
   ]
  },
  {
   "cell_type": "code",
   "execution_count": 16,
   "metadata": {},
   "outputs": [],
   "source": [
    "import matplotlib.pyplot as plt\n",
    "import random, sys, time\n",
    "\n",
    "plt.rcParams[\"font.sans-serif\"] = [\"SimHei\"]\n",
    "plt.rcParams[\"axes.unicode_minus\"] = False\n",
    "\n",
    "Times = 1000000\n",
    "Map_Size = 27\n",
    "Win_Rate = {\"卡卡罗\": 0, \"今汐\": 0, \"长离\": 0, \"守岸人\": 0, \"椿\": 0, \"珂莱塔\": 0, \"洛可可\": 0, \"菲比\": 0, \"布兰特\": 0, \"坎特蕾拉\": 0,\n",
    "            \"赞妮\": 0, \"卡提希娅\": 0}\n",
    "Cubes = {\"A\": [\"卡卡罗\", \"今汐\", \"长离\", \"守岸人\", \"椿\", \"珂莱塔\"], \"B\": [\"洛可可\", \"菲比\", \"布兰特\", \"坎特蕾拉\", \"赞妮\", \"卡提希娅\"]}"
   ]
  },
  {
   "cell_type": "markdown",
   "metadata": {},
   "source": [
    "# 将比赛看作整体\n",
    "- 一轮行动\n",
    "- 半场比赛\n",
    "- 一场比赛\n",
    "- 小团快跑"
   ]
  },
  {
   "cell_type": "code",
   "execution_count": null,
   "metadata": {},
   "outputs": [],
   "source": [
    "'''def Game_Cycle():\n",
    "\n",
    "def Game_Half():'''\n",
    "\n",
    "def Game_Whole(cubes: list[str]) -> list[str]:\n",
    "    # 上半场\n",
    "    map = Map_Init(mode = 0, cubes = cubes)\n",
    "    ranks_above = Game_Half(cubes = cubes, map = map, mode = 0)\n",
    "    # 下半场\n",
    "    map = Map_Init(mode = 1, cubes = cubes)\n",
    "    ranks = Game_Half(cubes = cubes, map = map, mode = 1)\n",
    "    return ranks\n",
    "\n",
    "def Running_Cubes(cubes: dict) -> str:\n",
    "    # A组、B组小组赛\n",
    "    ranks_a_game1 = Game_Whole(cubes = cubes[\"A\"])[0: -2]\n",
    "    ranks_b_game1 = Game_Whole(cubes = cubes[\"B\"])[0: -2]\n",
    "    # A组、B组淘汰赛\n",
    "    ranks_a_game2 = Game_Whole(cubes = ranks_a_game1)[0: -2]\n",
    "    ranks_b_game2 = Game_Whole(cubes = ranks_b_game1)[0: -2]\n",
    "    # 总决赛\n",
    "    ranks_final_game = Game_Whole(cubes = ranks_a_game2 + ranks_b_game2)\n",
    "    return ranks_final_game[0]"
   ]
  },
  {
   "cell_type": "markdown",
   "metadata": {},
   "source": [
    "# 比赛之外\n",
    "- 展示结果\n",
    "- 生成进度条"
   ]
  },
  {
   "cell_type": "code",
   "execution_count": 17,
   "metadata": {},
   "outputs": [],
   "source": [
    "def Show_Win_Rate(win_rate: dict) -> None: # 用饼状图展示胜率\n",
    "    # 降序排序、团子表、胜率表\n",
    "    win_rate = sorted(win_rate, key = lambda k: k[1], reverse = True)\n",
    "    cubes = [item[0] for item in win_rate]\n",
    "    rates = [item[1] for item in win_rate]\n",
    "    # 绘制饼状图、展示\n",
    "    plt.pie(cubes, labels = rates, autopct = \"%1.1f%%\")\n",
    "    plt.show()\n",
    "\n",
    "def Stat_Bar(stat: int) -> str: # 依据进度生成对应的进度条\n",
    "    stat = stat * 100 // Times + 1\n",
    "    if stat <= 9:    stat_bar = \"[\" + \"=\" * (stat // 2) + \" \" * (25 - stat // 2) + str(stat) + \"%\" + \" \" * 23 + \"]\"      # 0~9\n",
    "    elif stat <= 47: stat_bar = \"[\" + \"=\" * (stat // 2) + \" \" * (24 - stat // 2) + str(stat) + \"%\" + \" \" * 23 + \"]\"      # 10~47\n",
    "    elif stat <= 55: stat_bar = \"[\" + \"=\" * 24 + str(stat) + \"%\" + \" \" * 23 + \"]\"                                        # 48~55\n",
    "    elif stat <= 99: stat_bar = \"[\" + \"=\" * 24 + str(stat) + \"%\" + \"=\" * (stat // 2 - 27) + \" \" * (50 - stat // 2) + \"]\" # 56~99\n",
    "    else:            stat_bar = \"[\" + \"=\" * 23 + str(stat) + \"%\" + \"=\" * 23 + \"]\"                                        # 100\n",
    "    return stat_bar"
   ]
  },
  {
   "cell_type": "markdown",
   "metadata": {},
   "source": [
    "# 主函数、程序运行"
   ]
  },
  {
   "cell_type": "code",
   "execution_count": 22,
   "metadata": {},
   "outputs": [
    {
     "name": "stdout",
     "output_type": "stream",
     "text": [
      "模拟进度: [========                17%                       ]"
     ]
    },
    {
     "ename": "KeyboardInterrupt",
     "evalue": "",
     "output_type": "error",
     "traceback": [
      "\u001b[31m---------------------------------------------------------------------------\u001b[39m",
      "\u001b[31mKeyboardInterrupt\u001b[39m                         Traceback (most recent call last)",
      "\u001b[36mCell\u001b[39m\u001b[36m \u001b[39m\u001b[32mIn[22]\u001b[39m\u001b[32m, line 13\u001b[39m\n\u001b[32m     10\u001b[39m             sys.stdout.write(stat_bar)\n\u001b[32m     11\u001b[39m             time.sleep(\u001b[32m0.01\u001b[39m)\n\u001b[32m---> \u001b[39m\u001b[32m13\u001b[39m \u001b[38;5;28;01mif\u001b[39;00m \u001b[34m__name__\u001b[39m == \u001b[33m\"\u001b[39m\u001b[33m__main__\u001b[39m\u001b[33m\"\u001b[39m: main()\n",
      "\u001b[36mCell\u001b[39m\u001b[36m \u001b[39m\u001b[32mIn[22]\u001b[39m\u001b[32m, line 11\u001b[39m, in \u001b[36mmain\u001b[39m\u001b[34m()\u001b[39m\n\u001b[32m      9\u001b[39m sys.stdout.write(\u001b[33m\"\u001b[39m\u001b[38;5;130;01m\\r\u001b[39;00m\u001b[33m模拟进度: \u001b[39m\u001b[33m\"\u001b[39m)\n\u001b[32m     10\u001b[39m sys.stdout.write(stat_bar)\n\u001b[32m---> \u001b[39m\u001b[32m11\u001b[39m \u001b[43mtime\u001b[49m\u001b[43m.\u001b[49m\u001b[43msleep\u001b[49m\u001b[43m(\u001b[49m\u001b[32;43m0.01\u001b[39;49m\u001b[43m)\u001b[49m\n",
      "\u001b[31mKeyboardInterrupt\u001b[39m: "
     ]
    }
   ],
   "source": [
    "def main():\n",
    "    time_src = time.time()\n",
    "    for i in range(Times): # 百万场小团快跑\n",
    "        win = Running_Cubes(cubes = Cubes)\n",
    "        Win_Rate[win] += 1\n",
    "        # 依据时间刷新进度条\n",
    "        time_dst = time.time()\n",
    "        if time_dst - time_src >= 0.01:\n",
    "            time_src = time_dst\n",
    "            stat_bar = Stat_Bar(stat = i)\n",
    "            sys.stdout.write(\"\\r模拟进度: \")\n",
    "            sys.stdout.write(stat_bar)\n",
    "    Show_Win_Rate(win_rate = Win_Rate)\n",
    "\n",
    "if __name__ == \"__main__\": main()"
   ]
  }
 ],
 "metadata": {
  "kernelspec": {
   "display_name": "base",
   "language": "python",
   "name": "python3"
  },
  "language_info": {
   "codemirror_mode": {
    "name": "ipython",
    "version": 3
   },
   "file_extension": ".py",
   "mimetype": "text/x-python",
   "name": "python",
   "nbconvert_exporter": "python",
   "pygments_lexer": "ipython3",
   "version": "3.12.4"
  }
 },
 "nbformat": 4,
 "nbformat_minor": 2
}
