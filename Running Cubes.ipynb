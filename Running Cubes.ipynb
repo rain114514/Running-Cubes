{
 "cells": [
  {
   "cell_type": "markdown",
   "metadata": {},
   "source": [
    "# 战前准备\n",
    "- 引入绘图、随机数、系统、时间模块\n",
    "- 设置绘图参数，使中文、负号正常显示\n",
    "- 设置基础参数如地图大小、胜率表等"
   ]
  },
  {
   "cell_type": "code",
   "execution_count": 16,
   "metadata": {},
   "outputs": [],
   "source": [
    "import matplotlib.pyplot as plt\n",
    "import random, sys, time\n",
    "\n",
    "plt.rcParams[\"font.sans-serif\"] = [\"SimHei\"]\n",
    "plt.rcParams[\"axes.unicode_minus\"] = False\n",
    "\n",
    "Times = 1000000\n",
    "Map_Size = 27\n",
    "Win_Rate = {\"卡卡罗\": 0, \"今汐\": 0, \"长离\": 0, \"守岸人\": 0, \"椿\": 0, \"珂莱塔\": 0, \"洛可可\": 0, \"菲比\": 0, \"布兰特\": 0, \"坎特蕾拉\": 0,\n",
    "            \"赞妮\": 0, \"卡提希娅\": 0}\n",
    "Cubes = {\"A\": [\"卡卡罗\", \"今汐\", \"长离\", \"守岸人\", \"椿\", \"珂莱塔\"], \"B\": [\"洛可可\", \"菲比\", \"布兰特\", \"坎特蕾拉\", \"赞妮\", \"卡提希娅\"]}"
   ]
  },
  {
   "cell_type": "markdown",
   "metadata": {},
   "source": [
    "# 对地图的操作\n",
    "- 地图重置\n",
    "- 地图初始化"
   ]
  },
  {
   "cell_type": "code",
   "execution_count": null,
   "metadata": {},
   "outputs": [],
   "source": [
    "def Map_Reset() -> list[list]: # 创建空地图\n",
    "    return [[] for i in range(Map_Size)]\n",
    "\n",
    "def Map_Init(mode: int, cubes: list[str]) -> list[list]: # 不同模式的初始化\n",
    "    # 创建空地图\n",
    "    map = Map_Reset()\n",
    "    if mode == 0: # 上半场\n",
    "        map[3] = [cube for cube in cubes]\n",
    "        random.shuffle(map[3])\n",
    "    elif mode == 1: # 下半场、灵活变通\n",
    "        map[3], map[3 - len(cubes) // 2] = [cubes[0]], [cubes[-1]]\n",
    "        for i in range(2, 3 - len(cubes) // 2, -1): map[i] = cubes[(6 - i * 2): (4 - i * 2): -1]\n",
    "    return map"
   ]
  },
  {
   "cell_type": "markdown",
   "metadata": {},
   "source": [
    "# 地图上的查询\n",
    "- 查询团子的位置\n",
    "- 查询团子的排名\n",
    "- 查询当前排行榜"
   ]
  },
  {
   "cell_type": "code",
   "execution_count": null,
   "metadata": {},
   "outputs": [],
   "source": [
    "def Get_Map_Pos(cube: str, map: map) -> int: # 寻找团子在地图上的位置\n",
    "    for i in range(len(map)):\n",
    "        if cube in map[i]: return i\n",
    "\n",
    "def Get_Rank(cube: str, map: map) -> int: # 查询团子的当前排名\n",
    "    rank = 1\n",
    "    for i in range(len(map) - 1, -1, -1): # 从后往前找\n",
    "        for j in range(len(map[i]) - 1, -1, -1): # 在上面的排名靠前\n",
    "            if map[i][j] == cube: return rank\n",
    "            rank += 1\n",
    "\n",
    "def Get_Ranks(map: map) -> list[str]: # 查询当前排行榜\n",
    "    ranks = []\n",
    "    for i in range(len(map) - 1, -1, -1): ranks += map[i][::-1]\n",
    "    return ranks"
   ]
  },
  {
   "cell_type": "markdown",
   "metadata": {},
   "source": [
    "# 拆解单轮行动\n",
    "- 决定行动顺序\n",
    "- 决定行动步数\n",
    "- 指定团子移动\n",
    "- 行动后技能判定与发动"
   ]
  },
  {
   "cell_type": "code",
   "execution_count": null,
   "metadata": {},
   "outputs": [],
   "source": [
    "def Decide_Turn(cubes: list[str], map: list[list], skill: dict, mode: int) -> list[str]: # 决定行动序列\n",
    "    if mode == 0: cube_turn = map[3][::-1] # 上半场首轮\n",
    "    elif mode == 1: # 其他轮次\n",
    "        cube_turn = [cube for cube in cubes]\n",
    "        random.shuffle(cube_turn)\n",
    "    if \"长离\" in cube_turn and skill[\"长离\"]: # 发动长离技能\n",
    "        cube_turn.remove(\"长离\")\n",
    "        cube_turn.append(\"长离\")\n",
    "        skill[\"长离\"] = False\n",
    "    return cube_turn\n",
    "\n",
    "def Decide_Step(cube: str, map: list[list], skill: dict, cube_turn: list[str]) -> int: # 决定行动步数 \n",
    "    # 基础步数\n",
    "    if cube == \"守岸人\": step = random.randint(2, 3)\n",
    "    elif cube == \"赞妮\": step = random.randint(1, 2) * 2 - 1\n",
    "    else: step = random.randint(1, 3)\n",
    "    # 技能步数\n",
    "    if cube == \"卡卡罗\" and Get_Rank(cube = cube, map = map) == len(cube_turn): step += 2\n",
    "    elif cube == \"椿\" and random.randint(1, 2) == 1:\n",
    "        step += len(map[Get_Map_Pos(cube = cube, map = map)]) - 1\n",
    "        skill[cube] = True\n",
    "    elif cube == \"珂莱塔\" and random.randint(1, 25) <= 7: step *= 2\n",
    "    elif cube == \"洛可可\" and cube_turn[-1] == cube: step += 2\n",
    "    elif cube == \"菲比\" and random.randint(1, 2) == 1: step += 1\n",
    "    elif cube == \"布兰特\" and cube_turn[0] == cube: step += 2\n",
    "    elif cube == \"赞妮\" and skill[cube]:\n",
    "        step += 2\n",
    "        skill[cube] = False\n",
    "        if len(map[Get_Map_Pos(cube = cube, map = map)]) > 1 and random.randint(1, 5) <= 2: skill[cube] = True # 赞妮技能判定\n",
    "    elif cube == \"卡提希娅\" and skill[cube] and random.randint(1, 5) <= 3: step += 2\n",
    "    return step\n",
    "\n",
    "def Move(cube: str, map: list[list], skill: dict, step: int) -> tuple: # 指定团子移动\n",
    "    # 计算起点、终点\n",
    "    src = Get_Map_Pos(cube = cube, map = map)\n",
    "    dst = src + step\n",
    "    if dst >= len(map): dst = len(map) - 1\n",
    "    # 具体团子移动\n",
    "    stack = []\n",
    "    if cube == \"椿\" and skill[cube]: # 椿技能发动\n",
    "        map[src].remove(cube)\n",
    "        map[dst].append(cube)\n",
    "        skill[cube] = False\n",
    "    elif cube == \"坎特蕾拉\" and not skill[cube]: # 坎特蕾拉技能未发动\n",
    "        stack += map[src][-1: map[src].index(cube) - 1: -1]\n",
    "        map[src] = map[src][0: map[src].index(cube)]\n",
    "        for i in range(src + 1, dst + 1):\n",
    "            if map[i] != []: # 技能触发\n",
    "                skill[cube] = True\n",
    "                break\n",
    "        if skill[cube]: # 技能发动\n",
    "            stack += map[i][::-1]\n",
    "            map[i] = []\n",
    "        map[dst] += stack[::-1]\n",
    "    else: # 其他情况\n",
    "        stack += map[src][-1: map[src].index(cube) - 1: -1]\n",
    "        map[src] = map[src][0: map[src].index[cube]]\n",
    "        map[dst] += stack[::-1]\n",
    "    return (map, skill)\n",
    "\n",
    "def Skill(cubes: list[str], map: list[list], skill: dict) -> tuple: # 行动后技能判定与发动\n",
    "    if \"今汐\" in cubes:\n",
    "        map_pos_jx = Get_Map_Pos(cube = \"今汐\", map = map)\n",
    "        if map[map_pos_jx].index(\"今汐\") < len(map[map_pos_jx]) - 1 and random.randint(1, 5) <= 2:\n",
    "            map[map_pos_jx].remove(\"今汐\")\n",
    "            map[map_pos_jx].append(\"今汐\")\n",
    "    elif \"长离\" in cubes:\n",
    "        if map[Get_Map_Pos(cube = \"长离\", map = map)].index(\"长离\") > 0 and random.randint(1, 20) <= 13: skill[\"长离\"] = True\n",
    "    elif \"卡提希娅\" in cubes:\n",
    "        if Get_Rank(cube = \"卡提希娅\", map = map) == len(cubes): skill[\"卡提希娅\"] = True"
   ]
  },
  {
   "cell_type": "markdown",
   "metadata": {},
   "source": [
    "# 将比赛看作整体\n",
    "- 一轮行动\n",
    "- 半场比赛\n",
    "- 一场比赛\n",
    "- 小团快跑"
   ]
  },
  {
   "cell_type": "code",
   "execution_count": null,
   "metadata": {},
   "outputs": [],
   "source": [
    "def Game_Cycle(cubes: list[str], map: list[list], skill: dict, mode: int) -> tuple: # 进行一轮行动\n",
    "    # 决定行动顺序、发动长离技能\n",
    "    cube_turn, skill = Decide_Turn(cubes = cubes, map = map, skill = skill, mode = mode)\n",
    "    for cube in cube_turn: # 轮流行动\n",
    "        # 决定步数、移动\n",
    "        step, skill = Decide_Step(cube = cube, map = map, skill = skill, cube_turn = cube_turn)\n",
    "        map, skill = Move(cube = cube, map = map, skill = skill, step = step)\n",
    "        # 胜利判定、技能判定与发动\n",
    "        if map[-1] != []: return (map, skill, True)\n",
    "        map, skill = Skill(cubes = cubes, map = map, skill = skill)\n",
    "    return (map, skill, False)\n",
    "\n",
    "def Game_Half(cubes: list[str], map: list[list], mode: int) -> list[str]: # 半场比赛\n",
    "    # 重置技能\n",
    "    skill = {}\n",
    "    for cube in cubes: skill[cube] = False\n",
    "    # 一轮一轮地比赛\n",
    "    map, skill, res = Game_Cycle(cubes = cubes, map = map, skill = skill, mode = mode)\n",
    "    while not res: map, skill, res = Game_Cycle(cubes = cubes, map = map, skill = skill, mode = 1)\n",
    "    # 提取排名\n",
    "    ranks = Get_Ranks(map = map)\n",
    "    return ranks\n",
    "\n",
    "def Game_Whole(cubes: list[str]) -> list[str]: # 进行上下半场比赛\n",
    "    # 上半场\n",
    "    map = Map_Init(mode = 0, cubes = cubes)\n",
    "    ranks_above = Game_Half(cubes = cubes, map = map, mode = 0)\n",
    "    # 下半场\n",
    "    map = Map_Init(mode = 1, cubes = ranks_above)\n",
    "    ranks = Game_Half(cubes = cubes, map = map, mode = 1)\n",
    "    return ranks\n",
    "\n",
    "def Running_Cubes(cubes: dict) -> str: # 进行完整的小团快跑\n",
    "    # A组、B组小组赛\n",
    "    ranks_a_game1 = Game_Whole(cubes = cubes[\"A\"])[0: -2]\n",
    "    ranks_b_game1 = Game_Whole(cubes = cubes[\"B\"])[0: -2]\n",
    "    # A组、B组淘汰赛\n",
    "    ranks_a_game2 = Game_Whole(cubes = ranks_a_game1)[0: -2]\n",
    "    ranks_b_game2 = Game_Whole(cubes = ranks_b_game1)[0: -2]\n",
    "    # 总决赛\n",
    "    ranks_final_game = Game_Whole(cubes = ranks_a_game2 + ranks_b_game2)\n",
    "    return ranks_final_game[0]"
   ]
  },
  {
   "cell_type": "markdown",
   "metadata": {},
   "source": [
    "# 比赛之外\n",
    "- 展示结果\n",
    "- 生成进度条"
   ]
  },
  {
   "cell_type": "code",
   "execution_count": 17,
   "metadata": {},
   "outputs": [],
   "source": [
    "def Show_Win_Rate(win_rate: dict) -> None: # 用饼状图展示胜率\n",
    "    # 降序排序、团子表、胜率表\n",
    "    win_rate = sorted(win_rate, key = lambda k: k[1], reverse = True)\n",
    "    cubes = [item[0] for item in win_rate]\n",
    "    rates = [item[1] for item in win_rate]\n",
    "    # 绘制饼状图、展示\n",
    "    plt.pie(cubes, labels = rates, autopct = \"%1.1f%%\")\n",
    "    plt.show()\n",
    "\n",
    "def Stat_Bar(stat: int) -> str: # 依据进度生成对应的进度条\n",
    "    stat = stat * 100 // Times + 1\n",
    "    if stat <= 9:    stat_bar = \"[\" + \"=\" * (stat // 2) + \" \" * (25 - stat // 2) + str(stat) + \"%\" + \" \" * 23 + \"]\"      # 0~9\n",
    "    elif stat <= 47: stat_bar = \"[\" + \"=\" * (stat // 2) + \" \" * (24 - stat // 2) + str(stat) + \"%\" + \" \" * 23 + \"]\"      # 10~47\n",
    "    elif stat <= 55: stat_bar = \"[\" + \"=\" * 24 + str(stat) + \"%\" + \" \" * 23 + \"]\"                                        # 48~55\n",
    "    elif stat <= 99: stat_bar = \"[\" + \"=\" * 24 + str(stat) + \"%\" + \"=\" * (stat // 2 - 27) + \" \" * (50 - stat // 2) + \"]\" # 56~99\n",
    "    else:            stat_bar = \"[\" + \"=\" * 23 + str(stat) + \"%\" + \"=\" * 23 + \"]\"                                        # 100\n",
    "    return stat_bar"
   ]
  },
  {
   "cell_type": "markdown",
   "metadata": {},
   "source": [
    "# 主函数、程序运行"
   ]
  },
  {
   "cell_type": "code",
   "execution_count": 22,
   "metadata": {},
   "outputs": [
    {
     "name": "stdout",
     "output_type": "stream",
     "text": [
      "模拟进度: [========                17%                       ]"
     ]
    },
    {
     "ename": "KeyboardInterrupt",
     "evalue": "",
     "output_type": "error",
     "traceback": [
      "\u001b[31m---------------------------------------------------------------------------\u001b[39m",
      "\u001b[31mKeyboardInterrupt\u001b[39m                         Traceback (most recent call last)",
      "\u001b[36mCell\u001b[39m\u001b[36m \u001b[39m\u001b[32mIn[22]\u001b[39m\u001b[32m, line 13\u001b[39m\n\u001b[32m     10\u001b[39m             sys.stdout.write(stat_bar)\n\u001b[32m     11\u001b[39m             time.sleep(\u001b[32m0.01\u001b[39m)\n\u001b[32m---> \u001b[39m\u001b[32m13\u001b[39m \u001b[38;5;28;01mif\u001b[39;00m \u001b[34m__name__\u001b[39m == \u001b[33m\"\u001b[39m\u001b[33m__main__\u001b[39m\u001b[33m\"\u001b[39m: main()\n",
      "\u001b[36mCell\u001b[39m\u001b[36m \u001b[39m\u001b[32mIn[22]\u001b[39m\u001b[32m, line 11\u001b[39m, in \u001b[36mmain\u001b[39m\u001b[34m()\u001b[39m\n\u001b[32m      9\u001b[39m sys.stdout.write(\u001b[33m\"\u001b[39m\u001b[38;5;130;01m\\r\u001b[39;00m\u001b[33m模拟进度: \u001b[39m\u001b[33m\"\u001b[39m)\n\u001b[32m     10\u001b[39m sys.stdout.write(stat_bar)\n\u001b[32m---> \u001b[39m\u001b[32m11\u001b[39m \u001b[43mtime\u001b[49m\u001b[43m.\u001b[49m\u001b[43msleep\u001b[49m\u001b[43m(\u001b[49m\u001b[32;43m0.01\u001b[39;49m\u001b[43m)\u001b[49m\n",
      "\u001b[31mKeyboardInterrupt\u001b[39m: "
     ]
    }
   ],
   "source": [
    "def main():\n",
    "    time_src = time.time()\n",
    "    for i in range(Times): # 百万场小团快跑\n",
    "        win = Running_Cubes(cubes = Cubes)\n",
    "        Win_Rate[win] += 1\n",
    "        # 依据时间刷新进度条\n",
    "        time_dst = time.time()\n",
    "        if time_dst - time_src >= 0.01:\n",
    "            time_src = time_dst\n",
    "            stat_bar = Stat_Bar(stat = i)\n",
    "            sys.stdout.write(\"\\r模拟进度: \")\n",
    "            sys.stdout.write(stat_bar)\n",
    "    Show_Win_Rate(win_rate = Win_Rate)\n",
    "\n",
    "if __name__ == \"__main__\": main()"
   ]
  }
 ],
 "metadata": {
  "kernelspec": {
   "display_name": "base",
   "language": "python",
   "name": "python3"
  },
  "language_info": {
   "codemirror_mode": {
    "name": "ipython",
    "version": 3
   },
   "file_extension": ".py",
   "mimetype": "text/x-python",
   "name": "python",
   "nbconvert_exporter": "python",
   "pygments_lexer": "ipython3",
   "version": "3.12.4"
  }
 },
 "nbformat": 4,
 "nbformat_minor": 2
}
