{
 "cells": [
  {
   "cell_type": "markdown",
   "metadata": {},
   "source": [
    "# 比赛之前的准备\n",
    "- 引入所需模块\n",
    "- 设置一些参数"
   ]
  },
  {
   "cell_type": "code",
   "execution_count": 113,
   "metadata": {},
   "outputs": [],
   "source": [
    "import matplotlib.pyplot as plt\n",
    "import random, time, sys, os\n",
    "\n",
    "plt.rcParams[\"font.sans-serif\"] = [\"SimHei\"]\n",
    "plt.rcParams[\"axes.unicode_minus\"] = False\n",
    "\n",
    "Times = 100000\n",
    "Map_Size = 24\n",
    "Win_Rate = {\"卡卡罗\": 0, \"今汐\": 0, \"长离\": 0, \"守岸人\": 0, \"椿\": 0, \"珂莱塔\": 0, \"洛可可\": 0, \"菲比\": 0, \"布兰特\": 0, \"坎特蕾拉\": 0, \"赞妮\": 0, \"卡提希娅\": 0}\n",
    "Cubes = {\"A\": [\"卡卡罗\", \"今汐\", \"长离\", \"守岸人\", \"椿\", \"珂莱塔\"], \"B\": [\"洛可可\", \"菲比\", \"布兰特\", \"坎特蕾拉\", \"赞妮\", \"卡提希娅\"]}"
   ]
  },
  {
   "cell_type": "markdown",
   "metadata": {},
   "source": [
    "# 地图操作\n",
    "- 地图清空\n",
    "- 地图初始化"
   ]
  },
  {
   "cell_type": "code",
   "execution_count": 114,
   "metadata": {},
   "outputs": [],
   "source": [
    "def Map_Reset() -> list[list]:\n",
    "    return [[] for i in range(Map_Size + 3)]\n",
    "\n",
    "def Map_Init(cubes: list[str], mode: int) -> list[list]:\n",
    "    map = Map_Reset()\n",
    "    if mode == 0: # 上半场比赛\n",
    "        map[3] = [cube for cube in cubes]\n",
    "        random.shuffle(map[3])\n",
    "    elif mode == 1: # 下半场比赛\n",
    "        map[3], map[3 - len(cubes) // 2] = [cubes[0]], [cubes[-1]]\n",
    "        for i in range(2, 3 - len(cubes) // 2, -1): # 初始化中间部分\n",
    "            map[i] = cubes[(6 - i * 2): (4 - i * 2): -1]\n",
    "    return map"
   ]
  },
  {
   "cell_type": "markdown",
   "metadata": {},
   "source": [
    "# 地图查询\n",
    "- 获取指定团子位置\n",
    "- 获取指定团子排名\n",
    "- 获取当前排行榜"
   ]
  },
  {
   "cell_type": "code",
   "execution_count": 115,
   "metadata": {},
   "outputs": [],
   "source": [
    "def Get_Map_Pos(cube: str, map: list[list]) -> int:\n",
    "    for i in range(len(map)): # 从前往后搜\n",
    "        if cube in map[i]: # 在此堆中\n",
    "            return i\n",
    "\n",
    "def Get_Rank(cube: str, map: list[list]) -> int:\n",
    "    rank = 1\n",
    "    for i in range(len(map) - 1, -1, -1): # 从后往前搜\n",
    "        for j in range(len(map[i]) - 1, -1, -1): # 从上往下看\n",
    "            if cube == map[i][j]:\n",
    "                return rank\n",
    "            rank += 1\n",
    "\n",
    "def Get_Ranks(map: list[list]) -> list[str]:\n",
    "    ranks = []\n",
    "    for i in range(len(map) - 1, -1, -1): # 从后往前搜\n",
    "        ranks += map[i][::-1]\n",
    "    return ranks"
   ]
  },
  {
   "cell_type": "markdown",
   "metadata": {},
   "source": [
    "# 步骤化的比赛\n",
    "- 决定行动顺序\n",
    "- 决定步数\n",
    "- 指定团子移动"
   ]
  },
  {
   "cell_type": "code",
   "execution_count": 116,
   "metadata": {},
   "outputs": [],
   "source": [
    "def Decide_Turn(cubes: list[str], map: list[list], skill: dict, mode: int) -> tuple[list[str], dict]:\n",
    "    if mode == 0: # 上半场首轮\n",
    "        cube_turn = map[3][::-1]\n",
    "    elif mode == 1: # 其他轮次\n",
    "        cube_turn = [cube for cube in cubes]\n",
    "        random.shuffle(cube_turn)\n",
    "    if \"长离\" in cubes and skill[\"长离\"]: # 长离在时才能发动技能\n",
    "        cube_turn.remove(\"长离\")\n",
    "        cube_turn.append(\"长离\")\n",
    "        skill[\"长离\"] = False\n",
    "    return (cube_turn, skill)\n",
    "\n",
    "def Decide_Step(cube: str, map: list[list], skill: dict, cube_turn: list[str]) -> tuple[int, dict]:\n",
    "    if cube == \"守岸人\": step = random.randint(2, 3) # 守岸人\n",
    "    elif cube == \"赞妮\": step = random.randint(1, 2) * 2 - 1 # 赞妮\n",
    "    else: step = random.randint(1, 3) # 其他人\n",
    "    if cube == \"卡卡罗\": # 卡卡罗\n",
    "        if Get_Rank(cube = cube, map = map) == len(cube_turn): # 技能触发\n",
    "            step += 3\n",
    "    elif cube == \"椿\": # 椿\n",
    "        if random.randint(1, 2) == 1 and len(map[Get_Map_Pos(cube = cube, map = map)]) > 1 and not skill[cube]: # 技能触发\n",
    "            step += len(map[Get_Map_Pos(cube = cube, map = map)]) - 1\n",
    "            skill[cube] = True\n",
    "    elif cube == \"珂莱塔\": # 珂莱塔\n",
    "        if random.randint(1, 25) <= 7: # 技能触发\n",
    "            step *= 2\n",
    "    elif cube == \"洛可可\": # 洛可可\n",
    "        if cube_turn[-1] == cube: # 技能触发\n",
    "            step += 2\n",
    "    elif cube == \"菲比\": # 菲比\n",
    "        if random.randint(1, 2) == 1: # 技能触发\n",
    "            step += 1\n",
    "    elif cube == \"布兰特\": # 布兰特\n",
    "        if cube_turn[0] == cube: # 技能触发\n",
    "            step += 2\n",
    "    elif cube == \"赞妮\": # 赞妮\n",
    "        if skill[cube]: # 技能触发\n",
    "            step += 2\n",
    "            skill[cube] = False\n",
    "        if len(map[Get_Map_Pos(cube = cube, map = map)]) > 1 and random.randint(1, 5) <= 2 and not skill[cube]: # 技能判定\n",
    "            skill[cube] = True\n",
    "    elif cube == \"卡提希娅\": # 卡提希娅\n",
    "        if skill[cube] and random.randint(1, 5) <= 3: # 技能触发\n",
    "            step += 2\n",
    "    return (step, skill)\n",
    "\n",
    "def Skill(cube: str, map: list[list], skill: dict, cube_turn: list[str], mode: int) -> tuple[list[list], dict]:\n",
    "    if \"今汐\" in cube_turn: # 今汐在场时才能触发\n",
    "        if (mode == 1 and cube != \"今汐\") or (mode == 0 and cube_turn.index(cube) > cube_turn.index(\"今汐\")): # 首轮行动后才触发\n",
    "            map_pos_jx = Get_Map_Pos(cube = \"今汐\", map = map)\n",
    "            if map[map_pos_jx].index(\"今汐\") < len(map[map_pos_jx]) - 1 and random.randint(1, 5) <= 2: # 头上有其他团子时40%概率触发\n",
    "                map[map_pos_jx].remove(\"今汐\")\n",
    "                map[map_pos_jx].append(\"今汐\")\n",
    "    if \"长离\" in cube_turn: # 长离在场时才能触发\n",
    "        if map[Get_Map_Pos(cube = \"长离\", map = map)].index(\"长离\") > 0 and random.randint(1, 20) <= 13 and not skill[cube]: # 底下有其他团子时65%概率触发\n",
    "            skill[\"长离\"] = True\n",
    "    if \"卡提希娅\" in cube_turn: # 卡提希娅在场时才能触发\n",
    "        if cube == \"卡提希娅\" and Get_Rank(cube = cube, map = map) == len(cube_turn) and not skill[cube]: # 技能触发\n",
    "            skill[cube] = True\n",
    "    return (map, skill)\n",
    "\n",
    "def Move(cube: str, map: list[list], skill: dict, step: int) -> tuple[list[list], dict]:\n",
    "    # 决定起点终点\n",
    "    src = Get_Map_Pos(cube = cube, map = map)\n",
    "    dst = src + step\n",
    "    if dst >= len(map): # 超出地图\n",
    "        dst = len(map) - 1\n",
    "    # 移动\n",
    "    stack = []\n",
    "    if cube == \"椿\" and skill[cube]: # 椿技能触发\n",
    "        map[src].remove(cube)\n",
    "        map[dst].append(cube)\n",
    "        skill[cube] = False\n",
    "    elif cube == \"坎特蕾拉\" and not skill[cube]: # 坎特蕾拉技能未触发\n",
    "        while map[src][-1] != cube: # 上方的团子一同移动\n",
    "            stack.append(map[src].pop())\n",
    "        stack.append(map[src].pop())\n",
    "        for i in range(src + 1, dst + 1): # 检查路径\n",
    "            if map[i] != []: # 技能触发\n",
    "                skill[cube] = True\n",
    "                break\n",
    "        stack += map[i][::-1]\n",
    "        map[i] = []\n",
    "        map[dst] += stack[::-1]\n",
    "    else: # 其他团子\n",
    "        while map[src][-1] != cube: # 上方的团子一同移动\n",
    "            stack.append(map[src].pop())\n",
    "        stack.append(map[src].pop())\n",
    "        map[dst] += stack[::-1]\n",
    "    return (map, skill)"
   ]
  },
  {
   "cell_type": "markdown",
   "metadata": {},
   "source": [
    "# 整体化的比赛\n",
    "- 单轮行动\n",
    "- 半场比赛\n",
    "- 全场比赛\n",
    "- 小团快跑"
   ]
  },
  {
   "cell_type": "code",
   "execution_count": 117,
   "metadata": {},
   "outputs": [],
   "source": [
    "def Game_Cycle(cubes: list[str], map: list[list], skill: dict, mode: int) -> tuple[list[list], dict, bool]:\n",
    "    # 决定行动顺序\n",
    "    cube_turn, skill = Decide_Turn(cubes = cubes, map = map, skill = skill, mode = mode)\n",
    "    for cube in cube_turn: # 依次行动\n",
    "        # 决定步数、移动\n",
    "        step, skill = Decide_Step(cube = cube, map = map, skill = skill, cube_turn = cube_turn)\n",
    "        map, skill = Move(cube = cube, map = map, skill = skill, step = step)\n",
    "        # 胜利判定、技能发动\n",
    "        if map[-1] != []:\n",
    "            return (map, skill, True)\n",
    "        map, skill = Skill(cube = cube, map = map, skill = skill, cube_turn = cube_turn, mode = mode)\n",
    "    return (map, skill, False)\n",
    "\n",
    "def Game_Half(cubes: list[str], map: list[list], mode: int) -> list[str]:\n",
    "    # 重置技能\n",
    "    skill = {}\n",
    "    for cube in cubes: # 依次初始化\n",
    "        skill[cube] = False\n",
    "    # 轮次比赛\n",
    "    map, skill, res = Game_Cycle(cubes = cubes, map = map, skill = skill, mode = mode)\n",
    "    while not res: # 比赛尚未结束\n",
    "        map, skill, res = Game_Cycle(cubes = cubes, map = map, skill = skill, mode = 1)\n",
    "    return Get_Ranks(map = map)\n",
    "\n",
    "def Game_Whole(cubes: list[str]) -> list[str]:\n",
    "    # 上半场\n",
    "    map = Map_Init(cubes = cubes, mode = 0)\n",
    "    ranks = Game_Half(cubes = cubes, map = map, mode = 0)\n",
    "    # 下半场\n",
    "    map = Map_Init(cubes = ranks, mode = 1)\n",
    "    ranks = Game_Half(cubes = cubes, map = map, mode = 1)\n",
    "    return ranks\n",
    "\n",
    "def Running_Cubes(cubes: dict) -> str:\n",
    "    # A组B组小组赛\n",
    "    cubes_a = Game_Whole(cubes = cubes[\"A\"])[0: -2]\n",
    "    cubes_b = Game_Whole(cubes = cubes[\"B\"])[0: -2]\n",
    "    # A组B组淘汰赛\n",
    "    cubes_a = Game_Whole(cubes = cubes_a)[0: -2]\n",
    "    cubes_b = Game_Whole(cubes = cubes_b)[0: -2]\n",
    "    # 总决赛\n",
    "    cubes_final = Game_Whole(cubes = cubes_a + cubes_b)[0]\n",
    "    return cubes_final"
   ]
  },
  {
   "cell_type": "markdown",
   "metadata": {},
   "source": [
    "# 比赛之后的展示\n",
    "- 绘制胜率饼状图\n",
    "- 生成进度条"
   ]
  },
  {
   "cell_type": "code",
   "execution_count": 118,
   "metadata": {},
   "outputs": [],
   "source": [
    "def Show_Win_Rate(win_rate: dict) -> None:\n",
    "    # 获取团子列表、胜率列表\n",
    "    win_rate = sorted(win_rate.items(), key = lambda k: k[1], reverse = True)\n",
    "    cubes = [win_rate[i][0] for i in range(len(win_rate))]\n",
    "    rates = [win_rate[i][1] for i in range(len(win_rate))]\n",
    "    # 绘制饼状图、展示\n",
    "    plt.pie(x = rates, labels = cubes, autopct = \"%1.1f%%\")\n",
    "    plt.title(\"小团快跑冠军获得率\")\n",
    "    plt.show()\n",
    "\n",
    "def Status_Bar(status: int) -> str:\n",
    "    status = status * 100 // Times + 1\n",
    "    if status <= 9: status_bar = \"[\" + \"=\" * (status // 2) + \" \" * (25 - status // 2) + str(status) + \"%\" + \" \" * 23 + \"]\" # 一位数\n",
    "    elif status <= 47: status_bar = \"[\" + \"=\" * (status // 2) + \" \" * (24 - status // 2) + str(status) + \"%\" + \" \" * 23 + \"]\" # 两位数·一\n",
    "    elif status <= 55: status_bar = \"[\" + \"=\" * 24 + str(status) + \"%\" + \" \" * 23 + \"]\" # 两位数·二\n",
    "    elif status <= 99: status_bar = \"[\" + \"=\" * 24 + str(status) + \"%\" + \"=\" * (status // 2 - 27) + \" \" * (50 - status // 2) + \"]\" # 两位数·三\n",
    "    elif status == 100: status_bar = \"[\" + \"=\" * 23 + \"100%\" + \"=\" * 23 + \"]\" # 三位数\n",
    "    return status_bar"
   ]
  },
  {
   "cell_type": "markdown",
   "metadata": {},
   "source": [
    "# 主函数、运行"
   ]
  },
  {
   "cell_type": "code",
   "execution_count": 119,
   "metadata": {},
   "outputs": [
    {
     "name": "stdout",
     "output_type": "stream",
     "text": [
      "模拟进度: [=======================100%=======================]"
     ]
    },
    {
     "data": {
      "image/png": "[encoded data removed]",
      "text/plain": [
       "<Figure size 640x480 with 1 Axes>"
      ]
     },
     "metadata": {},
     "output_type": "display_data"
    }
   ],
   "source": [
    "def main() -> None: # 主函数\n",
    "    time_src = time.time()\n",
    "    for i in range(Times): # 十万次模拟\n",
    "        winner = Running_Cubes(cubes = Cubes)\n",
    "        Win_Rate[winner] += 1\n",
    "        # 刷新进度条\n",
    "        time_dst = time.time()\n",
    "        if time_dst - time_src >= 1: # 刷新进度条\n",
    "            time_src = time_dst\n",
    "            status_bar = Status_Bar(status = i)\n",
    "            os.system(\"clear\")\n",
    "            sys.stdout.write(\"\\r模拟进度: \")\n",
    "            sys.stdout.write(status_bar)\n",
    "    Show_Win_Rate(win_rate = Win_Rate)\n",
    "\n",
    "if __name__ == \"__main__\": # 运行主函数\n",
    "    main()"
   ]
  }
 ],
 "metadata": {
  "kernelspec": {
   "display_name": "base",
   "language": "python",
   "name": "python3"
  },
  "language_info": {
   "codemirror_mode": {
    "name": "ipython",
    "version": 3
   },
   "file_extension": ".py",
   "mimetype": "text/x-python",
   "name": "python",
   "nbconvert_exporter": "python",
   "pygments_lexer": "ipython3",
   "version": "3.12.4"
  }
 },
 "nbformat": 4,
 "nbformat_minor": 2
}
